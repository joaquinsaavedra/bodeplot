#!/usr/bin/env python
# coding: utf-8

# In[1]:
from pylab import *
# In[2]:
def H(w):
    alfa = 0.7
    beta = 22000000
    wc = 4000*pi
    return 150 /sqrt(((1.0 - ((w*w)/(alfa*beta)))*((1.0 - ((w*w)/(alfa*beta)))+((w*w)*(1/alfa+1/beta)*(1/alfa+1/beta)))
# In[3]:
f = logspace(0.0,5) # frequencies from 10**0 to 10**5
# In[4]:
plot(f, 20*log10(abs(H(2*pi*f)))); xscale('log')
plt.xlabel ("Frecuencia (Hz)")
plt.ylabel ("Amplitud (dB)")
grid(color='k', linestyle='--', linewidth=1)

