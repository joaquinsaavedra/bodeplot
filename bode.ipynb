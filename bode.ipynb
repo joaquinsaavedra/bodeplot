#!/usr/bin/env python
# coding: utf-8

# In[1]:
from pylab import *
# In[2]:
def H(w):
    alfa = 0.7
    beta = 22000000
    wc = 4000*pi
    s=j*w
    return 150 /((1+s/alfa)*(1+s/beta))
# In[3]:
f = logspace(0.0,5) # frequencies from 10**0 to 10**5
# In[4]:
plot(f, 20*log10(abs(H(2*pi*f)))); xscale('log')
plt.xlabel ("Frecuencia (Hz)")
plt.ylabel ("Amplitud (dB)")
grid(color='k', linestyle='--', linewidth=1)

